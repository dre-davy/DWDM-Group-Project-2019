{
  "cells": [
    {
      "metadata": {
        "_uuid": "8f2839f25d086af736a60e9eeb907d3b93b6e0e5",
        "_cell_guid": "b1076dfc-b9ad-4769-8c92-a6c4dae69d19",
        "trusted": true
      },
      "cell_type": "code",
      "source": "# This Python 3 environment comes with many helpful analytics libraries installed\n# It is defined by the kaggle/python docker image: https://github.com/kaggle/docker-python\n# For example, here's several helpful packages to load in \n\nimport numpy as np # linear algebra\nimport pandas as pd # data processing, CSV file I/O (e.g. pd.read_csv)\nimport matplotlib.pyplot as plt\nimport seaborn as sns\n%matplotlib inline\n\n# Input data files are available in the \"../input/\" directory.\n# For example, running this (by clicking run or pressing Shift+Enter) will list the files in the input directory\n\nimport os\nprint(os.listdir(\"../input\"))\n\n# Any results you write to the current directory are saved as output.",
      "execution_count": null,
      "outputs": []
    },
    {
      "metadata": {
        "_cell_guid": "79c7e3d0-c299-4dcb-8224-4455121ee9b0",
        "_uuid": "d629ff2d2480ee46fbb7e2d37f6b5fab8052498a",
        "trusted": true
      },
      "cell_type": "code",
      "source": "data_path = '../input/EPLMERGEDDATA.csv' # Path to data file\ndata = pd.read_csv(data_path) \ndata.head(15)",
      "execution_count": null,
      "outputs": []
    },
    {
      "metadata": {
        "trusted": true,
        "_uuid": "7951795a75c02b10a4efcfffd1748752081b4073"
      },
      "cell_type": "code",
      "source": "# What columns are in the data set ? Do they have spaces that I should consider\ndata.columns",
      "execution_count": null,
      "outputs": []
    },
    {
      "metadata": {
        "trusted": true,
        "_uuid": "49826cf3d2a02b227892b415e159e29b2ffdae60"
      },
      "cell_type": "code",
      "source": "data.describe()",
      "execution_count": null,
      "outputs": []
    },
    {
      "metadata": {
        "trusted": true,
        "_uuid": "e37cae9f2047bd5314b080abf3810d4c5a3be573"
      },
      "cell_type": "code",
      "source": "data['HS'].value_counts().plot(kind='bar')",
      "execution_count": null,
      "outputs": []
    },
    {
      "metadata": {
        "trusted": true,
        "_uuid": "fb2ed33644689afb036b24149b8fa65bf9c7686a"
      },
      "cell_type": "code",
      "source": "# Let's view the distribution of the data, where is it possible to find groups?\n# We are using boxplots of all the columns except the first (cust_id which is a string)\nfor col in data.columns[3:5]:\n    data[col].plot(kind='box')\n    plt.title('Box Plot for '+col)\n    plt.show()",
      "execution_count": null,
      "outputs": []
    },
    {
      "metadata": {
        "trusted": true,
        "_uuid": "f6aaba3d79897b43f9cf6907a7f5dfba9a540715"
      },
      "cell_type": "code",
      "source": "# Let's view the distribution of the data, where is it possible to find groups?\n# We are using boxplots of all the columns except the first (cust_id which is a string)\nfor col in data.columns[6:8]:\n    data[col].plot(kind='box')\n    plt.title('Box Plot for '+col)\n    plt.show()",
      "execution_count": null,
      "outputs": []
    },
    {
      "metadata": {
        "trusted": true,
        "_uuid": "823cad9027c235c12afac1e135b396e71562d643"
      },
      "cell_type": "code",
      "source": "# Let's view the distribution of the data, where is it possible to find groups?\n# We are using boxplots of all the columns except the first (cust_id which is a string)\nfor col in data.columns[10:20]:\n    data[col].plot(kind='box')\n    plt.title('Box Plot for '+col)\n    plt.show()",
      "execution_count": null,
      "outputs": []
    },
    {
      "metadata": {
        "trusted": true,
        "_uuid": "7b797c35c29eadbf4cc441c6114f5ac0c825e279"
      },
      "cell_type": "code",
      "source": "cluster_data = data[['HS','FTHG','AS','FTAG']]\ncluster_data.head()",
      "execution_count": null,
      "outputs": []
    },
    {
      "metadata": {
        "trusted": true,
        "_uuid": "ba9bd2608a95e827e25f47eaba3ea61cc0d6d2eb"
      },
      "cell_type": "code",
      "source": "cluster_data.plot(kind='scatter',x='HS',y='FTHG')",
      "execution_count": null,
      "outputs": []
    },
    {
      "metadata": {
        "trusted": true,
        "_uuid": "46a77cb1128fe9b1f84a63ce9136f62cfb51a7dd"
      },
      "cell_type": "code",
      "source": "cluster_data.plot(kind='scatter',x='AS',y='FTAG')",
      "execution_count": null,
      "outputs": []
    },
    {
      "metadata": {
        "trusted": true,
        "_uuid": "a4fa3a84ad58af7adfbd17983b2c867a333acc4e"
      },
      "cell_type": "code",
      "source": "cluster_data.plot(kind='scatter',x='HS',y='AS')",
      "execution_count": null,
      "outputs": []
    },
    {
      "metadata": {
        "trusted": true,
        "_uuid": "329514d92af325fb50d8b46711202d8ee77e135c"
      },
      "cell_type": "code",
      "source": "cluster_data.plot(kind='scatter',x='FTAG',y='FTHG')\n#Maybe they are more aggressive when they play at home",
      "execution_count": null,
      "outputs": []
    },
    {
      "metadata": {
        "trusted": true,
        "_uuid": "209c5b0e9493231a45824d9ea1fe5d5b310afd78"
      },
      "cell_type": "code",
      "source": "# Is there any missing data\nmissing_data_results = cluster_data.isnull().sum()\nprint(missing_data_results)\n\n# perform imputation with median values\n# not require since none missing\n#cluster_data = cluster_data.fillna( data.median() )",
      "execution_count": null,
      "outputs": []
    },
    {
      "metadata": {
        "trusted": true,
        "_uuid": "35f2b489e5f3b28bb5e61708c286133432b2b3f0"
      },
      "cell_type": "code",
      "source": "cluster_data = cluster_data.fillna( data.median() )",
      "execution_count": null,
      "outputs": []
    },
    {
      "metadata": {
        "trusted": true,
        "_uuid": "35438b4dfecc194ea3f7cb5915007f81db00f589"
      },
      "cell_type": "code",
      "source": "#retrieve just the values for all columns except Date\ndata_values = cluster_data.iloc[ :, :].values\ndata_values",
      "execution_count": null,
      "outputs": []
    },
    {
      "metadata": {
        "trusted": true,
        "_uuid": "e3d0b31f465bb7c4a62ce53b9ca58366b5cd00d4"
      },
      "cell_type": "code",
      "source": "#import KMeans algorithm\nfrom sklearn.cluster import KMeans",
      "execution_count": null,
      "outputs": []
    },
    {
      "metadata": {
        "trusted": true,
        "_uuid": "9fa9d823c1dcf6800f84b95cef28a341b412306f"
      },
      "cell_type": "code",
      "source": "# Use the Elbow method to find a good number of clusters using WCSS (within-cluster sums of squares)\nwcss = []\nfor i in range( 1, 15 ):\n    kmeans = KMeans(n_clusters=i, init=\"k-means++\", n_init=10, max_iter=300) \n    kmeans.fit_predict( data_values )\n    wcss.append( kmeans.inertia_ )\n    \nplt.plot( wcss, 'ro-', label=\"WCSS\")\nplt.title(\"Computing WCSS for KMeans++\")\nplt.xlabel(\"Number of clusters\")\nplt.ylabel(\"WCSS\")\nplt.show()",
      "execution_count": null,
      "outputs": []
    },
    {
      "metadata": {
        "trusted": true,
        "_uuid": "5501fbb9104e3f944286e2e8667a498d58cba59e"
      },
      "cell_type": "code",
      "source": "#I saw an elbow at 3 . So I did 3 clusters\nkmeans = KMeans(n_clusters=3, init=\"k-means++\", n_init=10, max_iter=300) \ncluster_data[\"cluster\"] = kmeans.fit_predict( data_values )\ncluster_data",
      "execution_count": null,
      "outputs": []
    },
    {
      "metadata": {
        "trusted": true,
        "_uuid": "3bc8b84229f541b9f5acb02a4c77c56935459f19"
      },
      "cell_type": "code",
      "source": "cluster_data['cluster'].value_counts()",
      "execution_count": null,
      "outputs": []
    },
    {
      "metadata": {
        "trusted": true,
        "_uuid": "430cc531b4c563a9556cecb8457ebd6805e03602"
      },
      "cell_type": "code",
      "source": "cluster_data['cluster'].value_counts().plot(kind='bar',title='Distribution of shots across goals')",
      "execution_count": null,
      "outputs": []
    },
    {
      "metadata": {
        "trusted": true,
        "_uuid": "344338515cd7e428c75ed77c6cb4a1c43984f0e4"
      },
      "cell_type": "code",
      "source": "sns.pairplot( cluster_data, hue=\"cluster\")",
      "execution_count": null,
      "outputs": []
    },
    {
      "metadata": {
        "trusted": true,
        "_uuid": "327fec48f3dadbd5c827c0a52fc285ea3e7c622f"
      },
      "cell_type": "code",
      "source": "grouped_cluster_data = cluster_data.groupby('cluster')\ngrouped_cluster_data",
      "execution_count": null,
      "outputs": []
    },
    {
      "metadata": {
        "trusted": true,
        "_uuid": "e92a78c716705cf8ed35e914fa8a567c9619c08a"
      },
      "cell_type": "code",
      "source": "grouped_cluster_data.describe()",
      "execution_count": null,
      "outputs": []
    },
    {
      "metadata": {
        "trusted": true,
        "_uuid": "5e8ec1d617a05a2f3ca0e2952bdaa28f35688404"
      },
      "cell_type": "code",
      "source": "grouped_cluster_data.plot(subplots=True,)",
      "execution_count": null,
      "outputs": []
    },
    {
      "metadata": {
        "trusted": true,
        "_uuid": "60ffa87468fb03a707e967c81d2ad1f4fe779208"
      },
      "cell_type": "code",
      "source": "kmeans.predict(pd.DataFrame({'FTHG':[0],'FTAG':[0],'HS':[1],'AS':[20]}))",
      "execution_count": null,
      "outputs": []
    },
    {
      "metadata": {
        "trusted": true,
        "_uuid": "c68a32de19c3c73bf7e04feac89fb4eb2ae496e6"
      },
      "cell_type": "code",
      "source": "kmeans.predict([[3,2,5,7]])",
      "execution_count": null,
      "outputs": []
    },
    {
      "metadata": {
        "trusted": true,
        "_uuid": "e32da66df770727a2e97bb1576beb86dc7efa147"
      },
      "cell_type": "code",
      "source": "kmeans.algorithm",
      "execution_count": null,
      "outputs": []
    },
    {
      "metadata": {
        "trusted": true,
        "_uuid": "b5ec28c7abb46f1727019b5da29ae1a880bcaf9f"
      },
      "cell_type": "code",
      "source": "kmeans.cluster_centers_",
      "execution_count": null,
      "outputs": []
    },
    {
      "metadata": {
        "trusted": true,
        "_uuid": "df73b1ce9d9f43e596297f8a58b8c8bb8fa40767"
      },
      "cell_type": "code",
      "source": "kmeans",
      "execution_count": null,
      "outputs": []
    }
  ],
  "metadata": {
    "kernelspec": {
      "display_name": "Python 3",
      "language": "python",
      "name": "python3"
    },
    "language_info": {
      "name": "python",
      "version": "3.6.6",
      "mimetype": "text/x-python",
      "codemirror_mode": {
        "name": "ipython",
        "version": 3
      },
      "pygments_lexer": "ipython3",
      "nbconvert_exporter": "python",
      "file_extension": ".py"
    }
  },
  "nbformat": 4,
  "nbformat_minor": 1
}
