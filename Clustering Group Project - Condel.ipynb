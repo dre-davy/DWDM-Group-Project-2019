{
  "cells": [
    {
      "metadata": {
        "_uuid": "8f2839f25d086af736a60e9eeb907d3b93b6e0e5",
        "_cell_guid": "b1076dfc-b9ad-4769-8c92-a6c4dae69d19",
        "trusted": true
      },
      "cell_type": "code",
      "source": "# This Python 3 environment comes with many helpful analytics libraries installed\n# It is defined by the kaggle/python docker image: https://github.com/kaggle/docker-python\n# For example, here's several helpful packages to load in \n\nimport numpy as np # linear algebra\nimport pandas as pd # data processing, CSV file I/O (e.g. pd.read_csv)\nimport matplotlib.pyplot as plt\n%matplotlib inline\nimport seaborn as sns\n\n# Input data files are available in the \"../input/\" directory.\n# For example, running this (by clicking run or pressing Shift+Enter) will list the files in the input directory\n\nimport os\nprint(os.listdir(\"../input\"))\n\n# Any results you write to the current directory are saved as output.",
      "execution_count": null,
      "outputs": []
    },
    {
      "metadata": {
        "_cell_guid": "79c7e3d0-c299-4dcb-8224-4455121ee9b0",
        "_uuid": "d629ff2d2480ee46fbb7e2d37f6b5fab8052498a",
        "trusted": true
      },
      "cell_type": "code",
      "source": "data_path = '../input/eplresults18.csv' # Path to data file\ndata = pd.read_csv(data_path) \ndata.head(15)",
      "execution_count": null,
      "outputs": []
    },
    {
      "metadata": {
        "trusted": true,
        "_uuid": "cddff959cf47b90772b78626fb9696ad32bdcddc"
      },
      "cell_type": "code",
      "source": "data.columns",
      "execution_count": null,
      "outputs": []
    },
    {
      "metadata": {
        "trusted": true,
        "_uuid": "a6e5dd222aaf57e24a9d41722780257e7e5ff4d1"
      },
      "cell_type": "code",
      "source": "data.describe()",
      "execution_count": null,
      "outputs": []
    },
    {
      "metadata": {
        "trusted": true,
        "_uuid": "d0628e7d8982c375281451528fc02e6441910eed"
      },
      "cell_type": "code",
      "source": "data['FTR'].value_counts().plot(kind='bar')",
      "execution_count": null,
      "outputs": []
    },
    {
      "metadata": {
        "trusted": true,
        "_uuid": "f55c345e95eb67e5f80c2f5050be68eb4b90fdf1"
      },
      "cell_type": "code",
      "source": "data['FTHG'].value_counts().plot(kind='bar')",
      "execution_count": null,
      "outputs": []
    },
    {
      "metadata": {
        "trusted": true,
        "_uuid": "417fb5cef39696501d18a8940b75c6c974cb7a0a"
      },
      "cell_type": "code",
      "source": "data['FTAG'].value_counts().plot(kind='bar')",
      "execution_count": null,
      "outputs": []
    },
    {
      "metadata": {
        "trusted": true,
        "_uuid": "b6ea3768ecefcbe7d8fe7dbc95142437270686e1"
      },
      "cell_type": "code",
      "source": "#Let's view the distribution of the data, where is it possible to find groups?\n#We are using boxplots of all the columns except the first (cust_id which is a string)\nfor col in data.columns[2:2]:\n    data[col].plot(kind='box')\n    plt.title('Box Plot for '+col)\n    plt.show()",
      "execution_count": null,
      "outputs": []
    },
    {
      "metadata": {
        "trusted": true,
        "_uuid": "574887e672b1617ffc834d1854b7c72af3bd72e1"
      },
      "cell_type": "code",
      "source": "def create_label_encoder_dict(df):\n    from sklearn.preprocessing import LabelEncoder\n    \n    label_encoder_dict = {}\n    for column in df.columns:\n        # Only create encoder for categorical data types\n        if not np.issubdtype(df[column].dtype, np.number) and column not in ['Season','Date','HomeTeam','AwayTeam','Referee','FTHG','FTAG','HTAG','HS''AS''HF''HC''AC''HY'] :\n            label_encoder_dict[column]= LabelEncoder().fit(df[column].astype(str))\n    return label_encoder_dict",
      "execution_count": null,
      "outputs": []
    },
    {
      "metadata": {
        "trusted": true,
        "_uuid": "1ddb5b28363a7b75105bcbaab72b1c616bbb2d58"
      },
      "cell_type": "code",
      "source": "label_encoders = create_label_encoder_dict(data)\nprint(\"Encoded Values for each Label\")\nprint(\"=\"*32)\nfor column in label_encoders:\n    print(\"=\"*32)\n    print((column, label_encoders[column].classes_ ))\n    print(pd.DataFrame([range(0,len(label_encoders[column].classes_))], columns=label_encoders[column].classes_, index=['Encoded Values']  ).T)",
      "execution_count": null,
      "outputs": []
    },
    {
      "metadata": {
        "trusted": true,
        "_uuid": "758269c9a89971c557ac4ef047ed0d15671942ba"
      },
      "cell_type": "code",
      "source": "# Apply each encoder to the data set to obtain transformed values\ndata2 = data.copy() # create copy of initial data set\nfor column in data2.columns:\n    if column in label_encoders:\n        data2[column] = label_encoders[column].transform(data2[column])\n\nprint(\"Transformed data set\")\nprint(\"=\"*32)\ndata2",
      "execution_count": null,
      "outputs": []
    },
    {
      "metadata": {
        "trusted": true,
        "_uuid": "d52bdd5861b8f9d87e2cf3b13f04abeb20dc26a4"
      },
      "cell_type": "code",
      "source": "cluster_data = data[['HC','AC','FTHG','FTAG']]\ncluster_data.head()",
      "execution_count": null,
      "outputs": []
    },
    {
      "metadata": {
        "trusted": true,
        "_uuid": "fd2150f1bf01dd10ca963c42285542c2157c0168"
      },
      "cell_type": "code",
      "source": "cluster_data.plot(kind='scatter',x='FTAG',y='FTHG')",
      "execution_count": null,
      "outputs": []
    },
    {
      "metadata": {
        "trusted": true,
        "_uuid": "0f31908005af003dddb1ae7b391e8690aeb93e39"
      },
      "cell_type": "code",
      "source": "cluster_data.plot(kind='scatter',x='FTHG',y='AC')",
      "execution_count": null,
      "outputs": []
    },
    {
      "metadata": {
        "trusted": true,
        "_uuid": "63ea1d9510a71eab3cb88527d9244b4e5e7d4530"
      },
      "cell_type": "code",
      "source": "cluster_data.plot(kind='scatter',x='FTAG',y='HC')",
      "execution_count": null,
      "outputs": []
    },
    {
      "metadata": {
        "trusted": true,
        "_uuid": "b2a85b6a04b78078df0a71d3d65f9027e3b9f2bf"
      },
      "cell_type": "code",
      "source": "data.columns",
      "execution_count": null,
      "outputs": []
    },
    {
      "metadata": {
        "_kg_hide-output": false,
        "trusted": true,
        "_uuid": "89165db39b9010b7c003c7b2dc02aec1daac71ca"
      },
      "cell_type": "code",
      "source": "#data.dropna()\n#data.fillna(0)",
      "execution_count": null,
      "outputs": []
    },
    {
      "metadata": {
        "trusted": true,
        "_uuid": "19eb141719066261006ed8adf0adec9c739f2a63"
      },
      "cell_type": "code",
      "source": "# Is there any missing data\nmissing_data_results = cluster_data.isnull().sum()\nprint(missing_data_results)\n\n# perform imputation with median values\n# not require since none missing\n#cluster_data = cluster_data.fillna( data.median() )",
      "execution_count": null,
      "outputs": []
    },
    {
      "metadata": {
        "trusted": true,
        "_uuid": "6a56f3fffdb7acbd67ea17c9ea2826b1f94acfd8"
      },
      "cell_type": "code",
      "source": "data",
      "execution_count": null,
      "outputs": []
    },
    {
      "metadata": {
        "trusted": true,
        "_uuid": "7f3d3e3c57c0044ebc39b1be07a847fa2a4914ca"
      },
      "cell_type": "code",
      "source": "#retrieve just the values for all columns except customer id\ndata_values = cluster_data.iloc[ :, :].values\ndata_values",
      "execution_count": null,
      "outputs": []
    },
    {
      "metadata": {
        "trusted": true,
        "_uuid": "139dc137b49d807551eeb93ae419fb299968184c"
      },
      "cell_type": "code",
      "source": "#import KMeans algorithm\nfrom sklearn.cluster import KMeans",
      "execution_count": null,
      "outputs": []
    },
    {
      "metadata": {
        "trusted": true,
        "_uuid": "0dc25a10b74bb09e5c1c00916a972d79e565f5fb"
      },
      "cell_type": "code",
      "source": "# Use the Elbow method to find a good number of clusters using WCSS (within-cluster sums of squares)\nwcss = []\nfor i in range( 1,15 ):\n    kmeans = KMeans(n_clusters=i, init=\"k-means++\", n_init=10, max_iter=300) \n    kmeans.fit_predict( data_values )\n    wcss.append( kmeans.inertia_ )\n    \nplt.plot( wcss, 'ro-', label=\"WCSS\")\nplt.title(\"Computing WCSS for KMeans++\")\nplt.xlabel(\"Number of clusters\")\nplt.ylabel(\"WCSS\")\nplt.show()",
      "execution_count": null,
      "outputs": []
    },
    {
      "metadata": {
        "trusted": true,
        "_uuid": "32bb2cd9ea4210f9e2f1d4246a9b599116ffecae"
      },
      "cell_type": "code",
      "source": "kmeans = KMeans(n_clusters=3, init=\"k-means++\", n_init=10, max_iter=300) \ncluster_data[\"cluster\"] = kmeans.fit_predict( data_values )\ncluster_data",
      "execution_count": null,
      "outputs": []
    },
    {
      "metadata": {
        "trusted": true,
        "_uuid": "3e111ec648495af36ebf5c21cc08286327eb146d"
      },
      "cell_type": "code",
      "source": "cluster_data['cluster'].value_counts()",
      "execution_count": null,
      "outputs": []
    },
    {
      "metadata": {
        "trusted": true,
        "_uuid": "03f3ec50639bb71a8e317fef42539a1107d1fe71"
      },
      "cell_type": "code",
      "source": "cluster_data['cluster'].value_counts().plot(kind='bar',title='Distribution of Corners across teams')\n",
      "execution_count": null,
      "outputs": []
    },
    {
      "metadata": {
        "trusted": true,
        "_uuid": "385feb3b6a76ddfac82144f104cc6ede24a20ad8"
      },
      "cell_type": "code",
      "source": "sns.pairplot( cluster_data, hue=\"cluster\")",
      "execution_count": null,
      "outputs": []
    },
    {
      "metadata": {
        "trusted": true,
        "_uuid": "49d3ed6e5b43778897ae21e60871448e95d25f1c"
      },
      "cell_type": "code",
      "source": "grouped_cluster_data = cluster_data.groupby('cluster')\ngrouped_cluster_data",
      "execution_count": null,
      "outputs": []
    },
    {
      "metadata": {
        "trusted": true,
        "_uuid": "c3cab5fb65ea35c2c4c2d6916a22edac19d5a59f"
      },
      "cell_type": "code",
      "source": "grouped_cluster_data.describe()",
      "execution_count": null,
      "outputs": []
    }
  ],
  "metadata": {
    "kernelspec": {
      "display_name": "Python 3",
      "language": "python",
      "name": "python3"
    },
    "language_info": {
      "name": "python",
      "version": "3.6.6",
      "mimetype": "text/x-python",
      "codemirror_mode": {
        "name": "ipython",
        "version": 3
      },
      "pygments_lexer": "ipython3",
      "nbconvert_exporter": "python",
      "file_extension": ".py"
    }
  },
  "nbformat": 4,
  "nbformat_minor": 1
}
